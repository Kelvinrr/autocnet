{
 "cells": [
  {
   "cell_type": "code",
   "execution_count": 1,
   "metadata": {
    "collapsed": true
   },
   "outputs": [],
   "source": [
    "import os \n",
    "os.environ[\"ISISROOT\"] = \"/usgs/cpkgs/anaconda3_linux/envs/isis3.9.0\"\n",
    "\n",
    "from matplotlib import pyplot as plt\n",
    "\n",
    "from plio.io.io_gdal import GeoDataset \n",
    "import numpy as np\n",
    "\n",
    "from autocnet.cg import change_detection as cd\n",
    "from autocnet.utils.utils import bytescale \n",
    "\n",
    "from plio.io.io_gdal import GeoDataset\n",
    "from pysis import isis\n",
    "from pysis.exceptions import ProcessError"
   ]
  },
  {
   "cell_type": "code",
   "execution_count": 2,
   "metadata": {},
   "outputs": [],
   "source": [
    "roi1_proj = \"/scratch/krodriguez/hirise/ESP_031022_1415_RED1.stitched.norm.34517_37165.proj.cub\"\n",
    "roi2_proj = \"/scratch/krodriguez/hirise/ESP_014038_1415_RED0.stitched.norm.30421_33069.proj.cub\""
   ]
  },
  {
   "cell_type": "raw",
   "metadata": {},
   "source": [
    "# Run to create the subsolar azimuth band.  There is currently no option to output directly as array\n",
    "try:\n",
    "    isis.phocube(from_=roi1_proj, to='out.cub', subsolargroundazimuth=True)\n",
    "except ProcessError as e:\n",
    "    print(e.stderr)"
   ]
  },
  {
   "cell_type": "code",
   "execution_count": 3,
   "metadata": {
    "collapsed": true
   },
   "outputs": [],
   "source": [
    "ssa = GeoDataset('out.cub')"
   ]
  },
  {
   "cell_type": "code",
   "execution_count": 4,
   "metadata": {},
   "outputs": [],
   "source": [
    "ssa_array = ssa.read_array()\n",
    "ssa_slice = ssa_array[700:1200,1100:1500]"
   ]
  },
  {
   "cell_type": "code",
   "execution_count": 5,
   "metadata": {
    "scrolled": false
   },
   "outputs": [
    {
     "ename": "NameError",
     "evalue": "name 'pysis' is not defined",
     "output_type": "error",
     "traceback": [
      "\u001b[0;31m---------------------------------------------------------------------------\u001b[0m",
      "\u001b[0;31mNameError\u001b[0m                                 Traceback (most recent call last)",
      "\u001b[0;32m<ipython-input-5-0e4c8ce3aa6a>\u001b[0m in \u001b[0;36m<module>\u001b[0;34m\u001b[0m\n\u001b[1;32m      1\u001b[0m \u001b[0mroi1_proj_geo\u001b[0m \u001b[0;34m=\u001b[0m \u001b[0mGeoDataset\u001b[0m\u001b[0;34m(\u001b[0m\u001b[0mroi1_proj\u001b[0m\u001b[0;34m)\u001b[0m\u001b[0;34m\u001b[0m\u001b[0;34m\u001b[0m\u001b[0m\n\u001b[1;32m      2\u001b[0m \u001b[0mroi2_proj_geo\u001b[0m \u001b[0;34m=\u001b[0m \u001b[0mGeoDataset\u001b[0m\u001b[0;34m(\u001b[0m\u001b[0mroi2_proj\u001b[0m\u001b[0;34m)\u001b[0m\u001b[0;34m\u001b[0m\u001b[0;34m\u001b[0m\u001b[0m\n\u001b[0;32m----> 3\u001b[0;31m \u001b[0misis_null\u001b[0m \u001b[0;34m=\u001b[0m \u001b[0mpysis\u001b[0m\u001b[0;34m.\u001b[0m\u001b[0mspecialpixels\u001b[0m\u001b[0;34m.\u001b[0m\u001b[0mSPECIAL_PIXELS\u001b[0m\u001b[0;34m[\u001b[0m\u001b[0;34m'Real'\u001b[0m\u001b[0;34m]\u001b[0m\u001b[0;34m[\u001b[0m\u001b[0;34m'Null'\u001b[0m\u001b[0;34m]\u001b[0m\u001b[0;34m\u001b[0m\u001b[0;34m\u001b[0m\u001b[0m\n\u001b[0m\u001b[1;32m      4\u001b[0m \u001b[0;34m\u001b[0m\u001b[0m\n\u001b[1;32m      5\u001b[0m \u001b[0mproj_array1\u001b[0m \u001b[0;34m=\u001b[0m \u001b[0mroi1_proj_geo\u001b[0m\u001b[0;34m.\u001b[0m\u001b[0mread_array\u001b[0m\u001b[0;34m(\u001b[0m\u001b[0;34m)\u001b[0m\u001b[0;34m\u001b[0m\u001b[0;34m\u001b[0m\u001b[0m\n",
      "\u001b[0;31mNameError\u001b[0m: name 'pysis' is not defined"
     ]
    }
   ],
   "source": [
    "roi1_proj_geo = GeoDataset(roi1_proj)\n",
    "roi2_proj_geo = GeoDataset(roi2_proj)\n",
    "isis_null = pysis.specialpixels.SPECIAL_PIXELS['Real']['Null']\n",
    "\n",
    "proj_array1 = roi1_proj_geo.read_array()\n",
    "proj_array2 = roi2_proj_geo.read_array()\n",
    "\n",
    "proj_array1[proj_array1 == isis_null] = np.nan\n",
    "proj_array2[proj_array2 == isis_null] = np.nan\n",
    "\n",
    "plt.figure(0, figsize=(10, 10))\n",
    "plt.imshow(proj_array1, alpha=.4)\n",
    "plt.imshow(proj_array2, alpha=.4)"
   ]
  },
  {
   "cell_type": "code",
   "execution_count": null,
   "metadata": {},
   "outputs": [],
   "source": [
    "slice1 = proj_array1[700:1200,1100:1500]\n",
    "slice2 = proj_array2[700:1200,1100:1500]"
   ]
  },
  {
   "cell_type": "code",
   "execution_count": null,
   "metadata": {
    "collapsed": true
   },
   "outputs": [],
   "source": [
    "def im_diff(arr1,arr2):\n",
    "    diff_array = arr2 - arr1\n",
    "    diff_array[np.isnan(diff_array)] = 0\n",
    "    diff_array = bytescale(diff_array)\n",
    "    return diff_array"
   ]
  },
  {
   "cell_type": "code",
   "execution_count": null,
   "metadata": {
    "scrolled": true
   },
   "outputs": [],
   "source": [
    "t1,t2 = cd.blob_detector(slice1, slice2, ssa_slice, im_diff, max_sigma=5, num_sigma=3, threshold=.25)"
   ]
  },
  {
   "cell_type": "code",
   "execution_count": null,
   "metadata": {},
   "outputs": [],
   "source": [
    "fig = plt.figure(0, figsize=(30, 30))\n",
    "axis = fig.add_subplot(1,1,1)\n",
    "plt.imshow(im_diff(slice1,slice2), alpha=1)\n",
    "for pt1, pt2 in t1:\n",
    "    y, x, r = pt1\n",
    "    c = plt.Circle((x, y), r, color='red', linewidth=2, fill=False)\n",
    "    axis.add_patch(c)\n",
    "    y, x, r = pt2\n",
    "    c = plt.Circle((x, y), r, color='yellow', linewidth=2, fill=False)\n",
    "    axis.add_patch(c)\n",
    "    \n",
    "for pt1, pt2 in t2:\n",
    "    y, x, r = pt1\n",
    "    c = plt.Circle((x, y), r, color='orange', linewidth=2, fill=False)\n",
    "    axis.add_patch(c)\n",
    "    y, x, r = pt2\n",
    "    c = plt.Circle((x, y), r, color='blue', linewidth=2, fill=False)\n",
    "    axis.add_patch(c)"
   ]
  }
 ],
 "metadata": {
  "kernelspec": {
   "display_name": "Python autocnet",
   "language": "python",
   "name": "autocnet"
  },
  "language_info": {
   "codemirror_mode": {
    "name": "ipython",
    "version": 3
   },
   "file_extension": ".py",
   "mimetype": "text/x-python",
   "name": "python",
   "nbconvert_exporter": "python",
   "pygments_lexer": "ipython3",
   "version": "3.7.6"
  }
 },
 "nbformat": 4,
 "nbformat_minor": 2
}
